{
  "nbformat": 4,
  "nbformat_minor": 0,
  "metadata": {
    "colab": {
      "name": "tof_data_prep.ipynb",
      "provenance": []
    },
    "kernelspec": {
      "name": "python3",
      "display_name": "Python 3"
    }
  },
  "cells": [
    {
      "cell_type": "markdown",
      "metadata": {
        "id": "kCbdHRUnEEwE",
        "colab_type": "text"
      },
      "source": [
        "**ToF signal data preparation**\n",
        "\n",
        "Our ToF data comes in a CSV file where the first column is time in seconds and the second column is voltage in volts. Also, the first 4 rows of the CSV are text headers so we will need to skip over them. For this code to be super easy to use, I suggest having the ToF files in a Google drive. All the repositary stuff with Git confuses me so much(!!!), probably to a trained coder it would be very easy to adapt this to import a CSV file from elsewhere.\n",
        "\n"
      ]
    },
    {
      "cell_type": "code",
      "metadata": {
        "id": "90axQxqKEG3Y",
        "colab_type": "code",
        "colab": {
          "base_uri": "https://localhost:8080/",
          "height": 34
        },
        "outputId": "241d9163-1e8c-4930-b455-d1a9623b5330"
      },
      "source": [
        " import numpy as np #importing modules to be used\n",
        " import pandas as pd\n",
        " import matplotlib\n",
        "\n",
        " from google.colab import drive\n",
        "drive.mount('/content/drive') #this authorises the user to access files in their Google Drive"
      ],
      "execution_count": 77,
      "outputs": [
        {
          "output_type": "stream",
          "text": [
            "Drive already mounted at /content/drive; to attempt to forcibly remount, call drive.mount(\"/content/drive\", force_remount=True).\n"
          ],
          "name": "stdout"
        }
      ]
    },
    {
      "cell_type": "markdown",
      "metadata": {
        "id": "FAPg5R5xtmqf",
        "colab_type": "text"
      },
      "source": [
        "To get the file path of the CSV, have the CSV in Google drive, then click the folder icon on the LHS of the screen in Colab. You'll get a list of all your folders - find the CSV you want, right click and select 'Copy filepath'."
      ]
    },
    {
      "cell_type": "code",
      "metadata": {
        "id": "tQsWv6wBI6mD",
        "colab_type": "code",
        "colab": {
          "base_uri": "https://localhost:8080/",
          "height": 419
        },
        "outputId": "9f842e94-964d-4002-bb27-705fa66393af"
      },
      "source": [
        "tof_data = \"/content/drive/My Drive/ToF stuff/C18_2_II_p1_h26v00000.csv\" #file path of CSV goes here\n",
        "df_ToF = pd.read_csv(tof_data, skiprows = 5) #creates a dataframe of the data\n",
        "df_ToF.columns = ['t', 'V'] #assigns column titles \n",
        "ToF_array = df_ToF.values #puts dataframe into an array\n",
        "\n",
        "df_ToF # raw data in nice format!"
      ],
      "execution_count": 78,
      "outputs": [
        {
          "output_type": "execute_result",
          "data": {
            "text/html": [
              "<div>\n",
              "<style scoped>\n",
              "    .dataframe tbody tr th:only-of-type {\n",
              "        vertical-align: middle;\n",
              "    }\n",
              "\n",
              "    .dataframe tbody tr th {\n",
              "        vertical-align: top;\n",
              "    }\n",
              "\n",
              "    .dataframe thead th {\n",
              "        text-align: right;\n",
              "    }\n",
              "</style>\n",
              "<table border=\"1\" class=\"dataframe\">\n",
              "  <thead>\n",
              "    <tr style=\"text-align: right;\">\n",
              "      <th></th>\n",
              "      <th>t</th>\n",
              "      <th>V</th>\n",
              "    </tr>\n",
              "  </thead>\n",
              "  <tbody>\n",
              "    <tr>\n",
              "      <th>0</th>\n",
              "      <td>-0.000049</td>\n",
              "      <td>0.002284</td>\n",
              "    </tr>\n",
              "    <tr>\n",
              "      <th>1</th>\n",
              "      <td>-0.000049</td>\n",
              "      <td>0.002271</td>\n",
              "    </tr>\n",
              "    <tr>\n",
              "      <th>2</th>\n",
              "      <td>-0.000048</td>\n",
              "      <td>0.002206</td>\n",
              "    </tr>\n",
              "    <tr>\n",
              "      <th>3</th>\n",
              "      <td>-0.000048</td>\n",
              "      <td>0.002232</td>\n",
              "    </tr>\n",
              "    <tr>\n",
              "      <th>4</th>\n",
              "      <td>-0.000047</td>\n",
              "      <td>0.002245</td>\n",
              "    </tr>\n",
              "    <tr>\n",
              "      <th>...</th>\n",
              "      <td>...</td>\n",
              "      <td>...</td>\n",
              "    </tr>\n",
              "    <tr>\n",
              "      <th>995</th>\n",
              "      <td>0.000448</td>\n",
              "      <td>0.004784</td>\n",
              "    </tr>\n",
              "    <tr>\n",
              "      <th>996</th>\n",
              "      <td>0.000449</td>\n",
              "      <td>0.004641</td>\n",
              "    </tr>\n",
              "    <tr>\n",
              "      <th>997</th>\n",
              "      <td>0.000449</td>\n",
              "      <td>0.004758</td>\n",
              "    </tr>\n",
              "    <tr>\n",
              "      <th>998</th>\n",
              "      <td>0.000450</td>\n",
              "      <td>0.004758</td>\n",
              "    </tr>\n",
              "    <tr>\n",
              "      <th>999</th>\n",
              "      <td>0.000450</td>\n",
              "      <td>0.004758</td>\n",
              "    </tr>\n",
              "  </tbody>\n",
              "</table>\n",
              "<p>1000 rows × 2 columns</p>\n",
              "</div>"
            ],
            "text/plain": [
              "            t         V\n",
              "0   -0.000049  0.002284\n",
              "1   -0.000049  0.002271\n",
              "2   -0.000048  0.002206\n",
              "3   -0.000048  0.002232\n",
              "4   -0.000047  0.002245\n",
              "..        ...       ...\n",
              "995  0.000448  0.004784\n",
              "996  0.000449  0.004641\n",
              "997  0.000449  0.004758\n",
              "998  0.000450  0.004758\n",
              "999  0.000450  0.004758\n",
              "\n",
              "[1000 rows x 2 columns]"
            ]
          },
          "metadata": {
            "tags": []
          },
          "execution_count": 78
        }
      ]
    },
    {
      "cell_type": "markdown",
      "metadata": {
        "id": "bCGOlcm4p7Vv",
        "colab_type": "text"
      },
      "source": [
        "So now we have created an array with all our data in it, using Pandas. Next we want to convert the time values from seconds into microseconds, and the raw voltage into micro amps. To do this we will define a function that has an input of the raw data array and the load resistor, and outputs a dataframe of t in $\\mu$s and i in $\\mu$A.\n",
        "\n",
        "NB: A weakness of the ToF_prep function defined below is that the calculation of dark current is NOT failsafe. I just estimated a range for points for dark current that were consistent with my results but could totally change based on what timebase you use. However, if the same timebase is used for all data on a particular device, it's usually safe to use the same range for all biases. The split( ) function could probably utilised somewhere in here but I don't got the brain power to figure it out right now."
      ]
    },
    {
      "cell_type": "code",
      "metadata": {
        "id": "PoPswUyhMYbn",
        "colab_type": "code",
        "colab": {
          "base_uri": "https://localhost:8080/",
          "height": 419
        },
        "outputId": "c9a70a6e-5f16-43a1-c529-8c5f994d93fd"
      },
      "source": [
        "def ToF_prep(ToF_array, R_L): \n",
        "\n",
        "  t_us = [] # t in us\n",
        "  i_uA = [] # i in uA\n",
        "  i_P_uA = []  # photocurrent in uA\n",
        "\n",
        "  for x in ToF_array: \n",
        "    t = x[0]*10e6 # seconds to micro seconds\n",
        "    t_us.append(t)\n",
        "  \n",
        "    i = (x[1]*10e6)/R_L # volts to micro amps\n",
        "    i_uA.append(i)\n",
        "\n",
        "  i_D = sum(i_uA[5:91]) / 85 # be super careful about this range, if using large time base range could be smaller\n",
        "\n",
        "  for y in i_uA: # takes dark current away from raw current\n",
        "    i_P = y - i_D\n",
        "    i_P_uA.append(i_P)\n",
        "\n",
        "  #print(t_us) # these potentially helpful to make sure you're getting what you expect!\n",
        "  #print(i_uA)\n",
        "  #print(i_D)\n",
        "  #print(i_P_uA)\n",
        "\n",
        "  prepared_df = pd.DataFrame(t_us, i_P_uA) # puts lists of values into new dataframe\n",
        "  prepared_df.reset_index(inplace=True)\n",
        "  prepared_df.columns = ['photocurrent', 'time']\n",
        "\n",
        "  return prepared_df\n",
        "\n",
        "ToF_prep(ToF_array, 2130)\n",
        "\n"
      ],
      "execution_count": 104,
      "outputs": [
        {
          "output_type": "execute_result",
          "data": {
            "text/html": [
              "<div>\n",
              "<style scoped>\n",
              "    .dataframe tbody tr th:only-of-type {\n",
              "        vertical-align: middle;\n",
              "    }\n",
              "\n",
              "    .dataframe tbody tr th {\n",
              "        vertical-align: top;\n",
              "    }\n",
              "\n",
              "    .dataframe thead th {\n",
              "        text-align: right;\n",
              "    }\n",
              "</style>\n",
              "<table border=\"1\" class=\"dataframe\">\n",
              "  <thead>\n",
              "    <tr style=\"text-align: right;\">\n",
              "      <th></th>\n",
              "      <th>photocurrent</th>\n",
              "      <th>time</th>\n",
              "    </tr>\n",
              "  </thead>\n",
              "  <tbody>\n",
              "    <tr>\n",
              "      <th>0</th>\n",
              "      <td>-1.039527</td>\n",
              "      <td>-495.0</td>\n",
              "    </tr>\n",
              "    <tr>\n",
              "      <th>1</th>\n",
              "      <td>-1.100653</td>\n",
              "      <td>-490.0</td>\n",
              "    </tr>\n",
              "    <tr>\n",
              "      <th>2</th>\n",
              "      <td>-1.406287</td>\n",
              "      <td>-485.0</td>\n",
              "    </tr>\n",
              "    <tr>\n",
              "      <th>3</th>\n",
              "      <td>-1.284034</td>\n",
              "      <td>-480.0</td>\n",
              "    </tr>\n",
              "    <tr>\n",
              "      <th>4</th>\n",
              "      <td>-1.222907</td>\n",
              "      <td>-475.0</td>\n",
              "    </tr>\n",
              "    <tr>\n",
              "      <th>...</th>\n",
              "      <td>...</td>\n",
              "      <td>...</td>\n",
              "    </tr>\n",
              "    <tr>\n",
              "      <th>995</th>\n",
              "      <td>10.697563</td>\n",
              "      <td>4480.0</td>\n",
              "    </tr>\n",
              "    <tr>\n",
              "      <th>996</th>\n",
              "      <td>10.025121</td>\n",
              "      <td>4485.0</td>\n",
              "    </tr>\n",
              "    <tr>\n",
              "      <th>997</th>\n",
              "      <td>10.575309</td>\n",
              "      <td>4490.0</td>\n",
              "    </tr>\n",
              "    <tr>\n",
              "      <th>998</th>\n",
              "      <td>10.575309</td>\n",
              "      <td>4495.0</td>\n",
              "    </tr>\n",
              "    <tr>\n",
              "      <th>999</th>\n",
              "      <td>10.575309</td>\n",
              "      <td>4500.0</td>\n",
              "    </tr>\n",
              "  </tbody>\n",
              "</table>\n",
              "<p>1000 rows × 2 columns</p>\n",
              "</div>"
            ],
            "text/plain": [
              "     photocurrent    time\n",
              "0       -1.039527  -495.0\n",
              "1       -1.100653  -490.0\n",
              "2       -1.406287  -485.0\n",
              "3       -1.284034  -480.0\n",
              "4       -1.222907  -475.0\n",
              "..            ...     ...\n",
              "995     10.697563  4480.0\n",
              "996     10.025121  4485.0\n",
              "997     10.575309  4490.0\n",
              "998     10.575309  4495.0\n",
              "999     10.575309  4500.0\n",
              "\n",
              "[1000 rows x 2 columns]"
            ]
          },
          "metadata": {
            "tags": []
          },
          "execution_count": 104
        }
      ]
    },
    {
      "cell_type": "markdown",
      "metadata": {
        "id": "8isynPRv0kPF",
        "colab_type": "text"
      },
      "source": [
        "Now we just need to write the dataframe to a CSV and export it to Google drive. "
      ]
    },
    {
      "cell_type": "code",
      "metadata": {
        "id": "ZXGTCTo-OYWg",
        "colab_type": "code",
        "colab": {}
      },
      "source": [
        "ready_to_export = ToF_prep(ToF_array, 2130)\n",
        "\n",
        "\n",
        "ready_to_export.to_csv(r'/content/drive/My Drive/ToF stuff/prepared_tof_data.csv', index = False)"
      ],
      "execution_count": 103,
      "outputs": []
    },
    {
      "cell_type": "markdown",
      "metadata": {
        "id": "MQGkZYT50rvk",
        "colab_type": "text"
      },
      "source": [
        "Congrats u have just prepared your ToF data. I'm too thick to work out how to find the time of arrival in Python so good luck comrade."
      ]
    },
    {
      "cell_type": "code",
      "metadata": {
        "id": "Z5ECqODvz3p3",
        "colab_type": "code",
        "colab": {}
      },
      "source": [
        ""
      ],
      "execution_count": null,
      "outputs": []
    }
  ]
}